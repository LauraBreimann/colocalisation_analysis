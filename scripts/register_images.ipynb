{
 "cells": [
  {
   "cell_type": "markdown",
   "metadata": {},
   "source": [
    "# Align multichannel images"
   ]
  },
  {
   "cell_type": "code",
   "execution_count": 1,
   "metadata": {},
   "outputs": [],
   "source": [
    "# Import the image_registration module\n",
    "import os\n",
    "from image_registration import align_tiff_stack"
   ]
  },
  {
   "cell_type": "code",
   "execution_count": 2,
   "metadata": {},
   "outputs": [],
   "source": [
    "# Define input and output paths\n",
    "input_folder = '/Users/laurabreimann/Documents/Postdoc/Colabs/Elisabeth/multi_channel'\n",
    "output_folder = '/Users/laurabreimann/Documents/Postdoc/Colabs/Elisabeth/registered'\n",
    "\n",
    "if not os.path.exists(output_folder):\n",
    "    os.makedirs(output_folder)\n"
   ]
  },
  {
   "cell_type": "code",
   "execution_count": 3,
   "metadata": {},
   "outputs": [
    {
     "name": "stdout",
     "output_type": "stream",
     "text": [
      "Processing file: 240715_DAw2_aSwtNM_16h_LysoS_mTr579_zzz3.tif\n",
      "Processing file: 241008_stableSPLICS_mTr_aSwtD_fz_4.tif\n"
     ]
    }
   ],
   "source": [
    "# Process each TIFF time series in the input folder\n",
    "for filename in sorted(os.listdir(input_folder)):\n",
    "    if filename.endswith(\".tif\"):\n",
    "        input_path = os.path.join(input_folder, filename)\n",
    "        output_path = os.path.join(output_folder, filename)\n",
    "        \n",
    "        print(f\"Processing file: {filename}\")\n",
    "        align_tiff_stack(input_path, output_path)\n",
    "    "
   ]
  },
  {
   "cell_type": "markdown",
   "metadata": {},
   "source": [
    "## Split channels into different folders\n"
   ]
  },
  {
   "cell_type": "code",
   "execution_count": 4,
   "metadata": {},
   "outputs": [],
   "source": [
    "import os\n",
    "from split_channels import split_multichannel_images"
   ]
  },
  {
   "cell_type": "code",
   "execution_count": 5,
   "metadata": {},
   "outputs": [],
   "source": [
    "input_folder = '/Users/laurabreimann/Documents/Postdoc/Colabs/Elisabeth/registered'\n",
    "output_folder = '/Users/laurabreimann/Documents/Postdoc/Colabs/Elisabeth/split_channels'"
   ]
  },
  {
   "cell_type": "code",
   "execution_count": 6,
   "metadata": {},
   "outputs": [
    {
     "name": "stdout",
     "output_type": "stream",
     "text": [
      "Processing: /Users/laurabreimann/Documents/Postdoc/Colabs/Elisabeth/registered/240715_DAw2_aSwtNM_16h_LysoS_mTr579_zzz3.tif\n",
      "Saved channel 1 to /Users/laurabreimann/Documents/Postdoc/Colabs/Elisabeth/split_channels/C1/240715_DAw2_aSwtNM_16h_LysoS_mTr579_zzz3_C1.tif\n",
      "Saved channel 2 to /Users/laurabreimann/Documents/Postdoc/Colabs/Elisabeth/split_channels/C2/240715_DAw2_aSwtNM_16h_LysoS_mTr579_zzz3_C2.tif\n",
      "Saved channel 3 to /Users/laurabreimann/Documents/Postdoc/Colabs/Elisabeth/split_channels/C3/240715_DAw2_aSwtNM_16h_LysoS_mTr579_zzz3_C3.tif\n",
      "Processing: /Users/laurabreimann/Documents/Postdoc/Colabs/Elisabeth/registered/241008_stableSPLICS_mTr_aSwtD_fz_4.tif\n",
      "Saved channel 1 to /Users/laurabreimann/Documents/Postdoc/Colabs/Elisabeth/split_channels/C1/241008_stableSPLICS_mTr_aSwtD_fz_4_C1.tif\n",
      "Saved channel 2 to /Users/laurabreimann/Documents/Postdoc/Colabs/Elisabeth/split_channels/C2/241008_stableSPLICS_mTr_aSwtD_fz_4_C2.tif\n"
     ]
    }
   ],
   "source": [
    "split_multichannel_images(input_folder, output_folder)"
   ]
  },
  {
   "cell_type": "code",
   "execution_count": null,
   "metadata": {},
   "outputs": [],
   "source": []
  }
 ],
 "metadata": {
  "kernelspec": {
   "display_name": "spot-compare-env",
   "language": "python",
   "name": "python3"
  },
  "language_info": {
   "codemirror_mode": {
    "name": "ipython",
    "version": 3
   },
   "file_extension": ".py",
   "mimetype": "text/x-python",
   "name": "python",
   "nbconvert_exporter": "python",
   "pygments_lexer": "ipython3",
   "version": "3.9.21"
  }
 },
 "nbformat": 4,
 "nbformat_minor": 2
}
